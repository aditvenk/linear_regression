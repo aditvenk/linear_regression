{
 "cells": [
  {
   "cell_type": "code",
   "execution_count": 240,
   "metadata": {
    "collapsed": false
   },
   "outputs": [
    {
     "data": {
      "text/plain": [
       "{'divide': 'ignore', 'invalid': 'ignore', 'over': 'warn', 'under': 'ignore'}"
      ]
     },
     "execution_count": 240,
     "metadata": {},
     "output_type": "execute_result"
    }
   ],
   "source": [
    "import numpy as np\n",
    "import csv as csv\n",
    "from scipy import stats\n",
    "from matplotlib import pyplot \n",
    "np.seterr(divide='ignore', invalid='ignore')"
   ]
  },
  {
   "cell_type": "code",
   "execution_count": 241,
   "metadata": {
    "collapsed": false
   },
   "outputs": [],
   "source": [
    "path = './Fitness Planner - Weight Tracking.csv'\n",
    "csvfile = open(path, 'r', newline='')"
   ]
  },
  {
   "cell_type": "code",
   "execution_count": 242,
   "metadata": {
    "collapsed": false
   },
   "outputs": [],
   "source": [
    "reader = csv.reader(csvfile)\n",
    "header = next(reader) # remove first line of header"
   ]
  },
  {
   "cell_type": "code",
   "execution_count": 243,
   "metadata": {
    "collapsed": false
   },
   "outputs": [],
   "source": [
    "data = [] \n",
    "for row in reader: \n",
    "    data.append([ float(x) for x in row[0:2] ])\n",
    "data = np.array(data)"
   ]
  },
  {
   "cell_type": "code",
   "execution_count": 244,
   "metadata": {
    "collapsed": false
   },
   "outputs": [
    {
     "name": "stdout",
     "output_type": "stream",
     "text": [
      "# training examples = 40\n"
     ]
    }
   ],
   "source": [
    "m = np.size(data[0::, 0]) # no. of training examples\n",
    "print('# training examples = %d'%m)\n",
    "\n",
    "# make mx2 matrix for x values \n",
    "x = np.reshape(data[0::, 0], (m,1))\n",
    "y = np.reshape(data[0::, 1], (m,1))\n",
    "b = np.ones((m,2))\n",
    "b[0::,1:] = x\n",
    "x = b"
   ]
  },
  {
   "cell_type": "code",
   "execution_count": 245,
   "metadata": {
    "collapsed": false
   },
   "outputs": [],
   "source": [
    "# get hypothesis\n",
    "def get_hypothesis(x, theta):\n",
    "    return np.dot(x, theta)"
   ]
  },
  {
   "cell_type": "code",
   "execution_count": 246,
   "metadata": {
    "collapsed": false
   },
   "outputs": [],
   "source": [
    "# initialize theta & gradient descent settings\n",
    "theta = np.zeros(shape=(2, 1))\n",
    "iterations = 10000\n",
    "alpha = 0.001"
   ]
  },
  {
   "cell_type": "code",
   "execution_count": 247,
   "metadata": {
    "collapsed": false
   },
   "outputs": [],
   "source": [
    "def compute_cost(theta):\n",
    "    # get predictions\n",
    "    h = get_hypothesis(x, theta)\n",
    "    sq_error = (h - y)**2\n",
    "    mean_sq_error = (np.sum(sq_error))/(2*m)\n",
    "    return mean_sq_error"
   ]
  },
  {
   "cell_type": "code",
   "execution_count": 248,
   "metadata": {
    "collapsed": false
   },
   "outputs": [
    {
     "name": "stdout",
     "output_type": "stream",
     "text": [
      "[[  1.77733869e+02]\n",
      " [ -5.83637959e-02]]\n"
     ]
    }
   ],
   "source": [
    "it = 0 # iteration count\n",
    "J_history = np.zeros((iterations,1)) # keep history of cost to guide learning rate modification\n",
    "while it < iterations:\n",
    "    h = get_hypothesis(x, theta)\n",
    "    \n",
    "    v = np.reshape(x[:,0], (m,1))\n",
    "    j1 = np.sum((h - y)*v)/m\n",
    "    v = np.reshape(x[:,1], (m,1))\n",
    "    j2 = np.sum((h - y)*v)/m\n",
    "    \n",
    "    \n",
    "    theta[0] = theta[0] - alpha*j1\n",
    "    theta[1] = theta[1] - alpha*j2\n",
    "    \n",
    "    J_history[it] = compute_cost(theta)\n",
    "    \n",
    "    if (it != 0):\n",
    "        if (J_history[it] > J_history[it-1]): # cost is increasing, decrease learning rate\n",
    "            alpha /= 2\n",
    "        else: # cost is decreasing, increase learning rate\n",
    "            alpha *= 2\n",
    "            \n",
    "    it +=1\n",
    "\n",
    "print(theta)"
   ]
  },
  {
   "cell_type": "code",
   "execution_count": 249,
   "metadata": {
    "collapsed": false
   },
   "outputs": [
    {
     "name": "stdout",
     "output_type": "stream",
     "text": [
      "[[177.73423076923078], [-0.058377110694183845]]\n"
     ]
    }
   ],
   "source": [
    "# compare against scipy's lin regress feature\n",
    "(slope, intercept, rvalue, pvalue, stderr) = stats.linregress(data[0::, 0] , data[0::, 1])\n",
    "print([[intercept], [slope]])"
   ]
  },
  {
   "cell_type": "code",
   "execution_count": 252,
   "metadata": {
    "collapsed": false
   },
   "outputs": [
    {
     "data": {
      "image/png": "[encoded data removed]",
      "text/plain": [
       "<matplotlib.figure.Figure at 0x107e984e0>"
      ]
     },
     "metadata": {},
     "output_type": "display_data"
    }
   ],
   "source": [
    "#Plot the data and learned lines\n",
    "pyplot.scatter(data[0::, 0], data[0::, 1], marker='.', c='green')\n",
    "\n",
    "pyplot.title('Linear Regression - Data and Learned Models')\n",
    "pyplot.xlabel(header[0])\n",
    "pyplot.ylabel(header[1])\n",
    "pyplot.plot(data[0::, 0], data[0::, 0]*theta[1] + theta[0], color=\"blue\")\n",
    "pyplot.plot(data[0::, 0], data[0::, 0]*slope + intercept, color=\"red\")\n",
    "pyplot.show()"
   ]
  },
  {
   "cell_type": "code",
   "execution_count": 253,
   "metadata": {
    "collapsed": false
   },
   "outputs": [
    {
     "data": {
      "image/png": "[encoded data removed]",
      "text/plain": [
       "<matplotlib.figure.Figure at 0x1088c3fd0>"
      ]
     },
     "metadata": {},
     "output_type": "display_data"
    }
   ],
   "source": [
    "fig = pyplot.figure()\n",
    "ax = fig.add_subplot(2,1,1)\n",
    "line, = ax.plot(range(iterations), J_history, color=\"blue\")\n",
    "pyplot.xlabel('Iterations')\n",
    "pyplot.ylabel('Cost')\n",
    "ax.set_yscale('log')\n",
    "\n",
    "pyplot.show()"
   ]
  },
  {
   "cell_type": "code",
   "execution_count": null,
   "metadata": {
    "collapsed": true
   },
   "outputs": [],
   "source": []
  },
  {
   "cell_type": "code",
   "execution_count": null,
   "metadata": {
    "collapsed": true
   },
   "outputs": [],
   "source": []
  }
 ],
 "metadata": {
  "kernelspec": {
   "display_name": "Python 3",
   "language": "python",
   "name": "python3"
  },
  "language_info": {
   "codemirror_mode": {
    "name": "ipython",
    "version": 3
   },
   "file_extension": ".py",
   "mimetype": "text/x-python",
   "name": "python",
   "nbconvert_exporter": "python",
   "pygments_lexer": "ipython3",
   "version": "3.5.2"
  }
 },
 "nbformat": 4,
 "nbformat_minor": 1
}
