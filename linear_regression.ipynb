{
 "cells": [
  {
   "cell_type": "code",
   "execution_count": 14,
   "metadata": {
    "collapsed": false
   },
   "outputs": [
    {
     "data": {
      "text/plain": [
       "{'divide': 'ignore', 'invalid': 'ignore', 'over': 'warn', 'under': 'ignore'}"
      ]
     },
     "execution_count": 14,
     "metadata": {},
     "output_type": "execute_result"
    }
   ],
   "source": [
    "import numpy as np\n",
    "import csv as csv\n",
    "from scipy import stats\n",
    "from matplotlib import pyplot \n",
    "np.seterr(divide='ignore', invalid='ignore')"
   ]
  },
  {
   "cell_type": "code",
   "execution_count": 15,
   "metadata": {
    "collapsed": true
   },
   "outputs": [],
   "source": [
    "csvfile = open('/Users/adityav/Downloads/Fitness Planner - Weight Tracking.csv', 'r', newline='')"
   ]
  },
  {
   "cell_type": "code",
   "execution_count": 16,
   "metadata": {
    "collapsed": false
   },
   "outputs": [],
   "source": [
    "reader = csv.reader(csvfile)\n",
    "header = next(reader)"
   ]
  },
  {
   "cell_type": "code",
   "execution_count": 17,
   "metadata": {
    "collapsed": false
   },
   "outputs": [],
   "source": [
    "data = [] \n",
    "for row in reader: \n",
    "    data.append([ float(x) for x in row[0:2] ])\n",
    "\n",
    "data = np.array(data)"
   ]
  },
  {
   "cell_type": "code",
   "execution_count": 18,
   "metadata": {
    "collapsed": false
   },
   "outputs": [
    {
     "name": "stdout",
     "output_type": "stream",
     "text": [
      "# training examples = 40\n"
     ]
    }
   ],
   "source": [
    "m = np.size(data[0::, 0]) # no. of training examples\n",
    "print('# training examples = %d'%m)\n",
    "# make mx2 matrix for x values \n",
    "x = np.reshape(data[0::, 0], (m,1))\n",
    "y = np.reshape(data[0::, 1], (m,1))\n",
    "# add extra column of 1s to x\n",
    "b = np.ones((m,2))\n",
    "b[0::,1:] = x\n",
    "x = b\n",
    "#print(x)"
   ]
  },
  {
   "cell_type": "code",
   "execution_count": 19,
   "metadata": {
    "collapsed": false
   },
   "outputs": [],
   "source": [
    "# get hypothesis\n",
    "def get_hypothesis(x, theta):\n",
    "    return np.dot(x, theta)"
   ]
  },
  {
   "cell_type": "code",
   "execution_count": 20,
   "metadata": {
    "collapsed": false
   },
   "outputs": [],
   "source": [
    "# initialize theta\n",
    "theta = np.zeros(shape=(2, 1))\n",
    "\n",
    "#Some gradient descent settings\n",
    "iterations = 1500\n",
    "alpha = 0.01"
   ]
  },
  {
   "cell_type": "code",
   "execution_count": 21,
   "metadata": {
    "collapsed": false
   },
   "outputs": [],
   "source": [
    "def compute_cost(theta):\n",
    "    # get predictions\n",
    "    h = get_hypothesis(x, theta)\n",
    "    sq_error = (h - y)**2\n",
    "    mean_sq_error = (np.sum(sq_error))/(2*m)\n",
    "    return mean_sq_error"
   ]
  },
  {
   "cell_type": "code",
   "execution_count": 22,
   "metadata": {
    "collapsed": false
   },
   "outputs": [
    {
     "name": "stdout",
     "output_type": "stream",
     "text": [
      "[[ 0.00623804]\n",
      " [ 1.00082785]]\n"
     ]
    }
   ],
   "source": [
    "it = 0\n",
    "J_history = np.zeros((iterations,1))\n",
    "while it < iterations:\n",
    "    h = get_hypothesis(x, theta)\n",
    "    #print(h)\n",
    "    v = np.reshape(x[:,0], (m,1))\n",
    "    j1 = np.sum((h - y)*v)/m\n",
    "    v = np.reshape(x[:,1], (m,1))\n",
    "    j2 = np.sum((h - y)*v)/m\n",
    "    #print(j1, j2)\n",
    "    theta[0] = theta[0] - alpha*j1\n",
    "    theta[1] = theta[1] - alpha*j2\n",
    "    #print(theta)\n",
    "    J_history[it] = compute_cost(theta)\n",
    "    if (it != 0):\n",
    "        if (J_history[it] > J_history[it-1]): # cost is increasing, decrease learning rate\n",
    "            alpha /= 2\n",
    "        else:\n",
    "            alpha *= 2\n",
    "            \n",
    "    #print(J_history[it])\n",
    "    it +=1\n",
    "\n",
    "print(theta)"
   ]
  },
  {
   "cell_type": "code",
   "execution_count": 23,
   "metadata": {
    "collapsed": false
   },
   "outputs": [],
   "source": [
    "(slope, intercept, rvalue, pvalue, stderr) = stats.linregress(data[0::, 0] , data[0::, 1])"
   ]
  },
  {
   "cell_type": "code",
   "execution_count": 24,
   "metadata": {
    "collapsed": false
   },
   "outputs": [
    {
     "data": {
      "image/png": "[encoded data removed]",
      "text/plain": [
       "<matplotlib.figure.Figure at 0x1078b44e0>"
      ]
     },
     "metadata": {},
     "output_type": "display_data"
    }
   ],
   "source": [
    "#Plot the data\n",
    "pyplot.scatter(data[0::, 0], data[0::, 1], marker='o', c='b')\n",
    "\n",
    "\n",
    "#title('Profits distribution')\n",
    "#xlabel('Population of City in 10,000s')\n",
    "#ylabel('Profit in $10,000s')\n",
    "pyplot.plot(data[0::, 0], data[0::, 0]*theta[1] + theta[0], color=\"blue\")\n",
    "pyplot.plot(data[0::, 0], data[0::, 0]*slope + intercept, color=\"red\")\n",
    "pyplot.show()\n"
   ]
  },
  {
   "cell_type": "code",
   "execution_count": null,
   "metadata": {
    "collapsed": true
   },
   "outputs": [],
   "source": []
  }
 ],
 "metadata": {
  "kernelspec": {
   "display_name": "Python 3",
   "language": "python",
   "name": "python3"
  },
  "language_info": {
   "codemirror_mode": {
    "name": "ipython",
    "version": 3
   },
   "file_extension": ".py",
   "mimetype": "text/x-python",
   "name": "python",
   "nbconvert_exporter": "python",
   "pygments_lexer": "ipython3",
   "version": "3.5.2"
  }
 },
 "nbformat": 4,
 "nbformat_minor": 1
}
